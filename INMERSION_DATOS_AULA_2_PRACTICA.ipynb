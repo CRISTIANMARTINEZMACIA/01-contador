{
  "nbformat": 4,
  "nbformat_minor": 0,
  "metadata": {
    "colab": {
      "provenance": [],
      "toc_visible": true,
      "authorship_tag": "ABX9TyMc9ZjSkOgt/JFmYjLXMskp",
      "include_colab_link": true
    },
    "kernelspec": {
      "name": "python3",
      "display_name": "Python 3"
    },
    "language_info": {
      "name": "python"
    }
  },
  "cells": [
    {
      "cell_type": "markdown",
      "metadata": {
        "id": "view-in-github",
        "colab_type": "text"
      },
      "source": [
        "<a href=\"https://colab.research.google.com/github/CRISTIANMARTINEZMACIA/01-contador/blob/master/INMERSION_DATOS_AULA_2_PRACTICA.ipynb\" target=\"_parent\"><img src=\"https://colab.research.google.com/assets/colab-badge.svg\" alt=\"Open In Colab\"/></a>"
      ]
    },
    {
      "cell_type": "code",
      "execution_count": 2,
      "metadata": {
        "colab": {
          "base_uri": "https://localhost:8080/"
        },
        "id": "fwElAzL6An04",
        "outputId": "5dfa49fc-a67e-4383-8c87-b53afbbd510e"
      },
      "outputs": [
        {
          "output_type": "stream",
          "name": "stdout",
          "text": [
            "Mounted at /content/drive\n"
          ]
        }
      ],
      "source": [
        "from google.colab import drive\n",
        "drive.mount('/content/drive')"
      ]
    },
    {
      "cell_type": "code",
      "source": [
        "import pandas as pd\n",
        "\n",
        "inmuebles = pd.read_csv('/content/drive/MyDrive/inmuebles_bogota.csv')\n",
        "columnas = {'Baños':'Banos','Área':'Area'}\n",
        "inmuebles = inmuebles.rename(columns=columnas)\n",
        "inmuebles.head()"
      ],
      "metadata": {
        "id": "3UKfwS3_A1n_"
      },
      "execution_count": null,
      "outputs": []
    },
    {
      "cell_type": "code",
      "source": [
        "\n",
        "inmuebles.Area.mean()\n",
        "\n",
        "\n"
      ],
      "metadata": {
        "colab": {
          "base_uri": "https://localhost:8080/"
        },
        "id": "DrNbupW9D3Ph",
        "outputId": "eb9d05b1-f46d-4253-b731-375c2343caf1"
      },
      "execution_count": 11,
      "outputs": [
        {
          "output_type": "execute_result",
          "data": {
            "text/plain": [
              "146.66470588235293"
            ]
          },
          "metadata": {},
          "execution_count": 11
        }
      ]
    },
    {
      "cell_type": "code",
      "source": [
        "nombre_barrios = inmuebles['Barrio'].unique()\n",
        "promedio_areas_por_barrios = []\n",
        "lista_nombre_barrios  = []\n",
        "len(nombre_barrios)\n",
        "for i in range(0,len(nombre_barrios) - 1, 1 ):\n",
        "  barrio = (inmuebles.Barrio == nombre_barrios[i])\n",
        "  barrio_inmueble = inmuebles[barrio]\n",
        "  lista_nombre_barrios.append(nombre_barrios[i])\n",
        "  promedio_areas_por_barrios.append(barrio_inmueble.Area.mean())\n",
        " \n",
        "datos = {'Promedio_Areas':promedio_areas_por_barrios,'Nombre':lista_nombre_barrios}\n",
        "\n",
        "df = pd.DataFrame(datos)\n",
        "\n",
        "df.head(10).plot.bar('Nombre','Promedio_Areas')"
      ],
      "metadata": {
        "colab": {
          "base_uri": "https://localhost:8080/",
          "height": 394
        },
        "id": "B2rWB0pSG1cm",
        "outputId": "4fb1bf93-4ed2-4867-e485-ac1098fa214f"
      },
      "execution_count": 48,
      "outputs": [
        {
          "output_type": "execute_result",
          "data": {
            "text/plain": [
              "<Axes: xlabel='Nombre'>"
            ]
          },
          "metadata": {},
          "execution_count": 48
        },
        {
          "output_type": "display_data",
          "data": {
            "text/plain": [
              "<Figure size 432x288 with 1 Axes>"
            ],
            "image/png": "[encoded data removed]"
          },
          "metadata": {
            "needs_background": "light"
          }
        }
      ]
    },
    {
      "cell_type": "code",
      "source": [],
      "metadata": {
        "id": "KJ8PoePRLnYJ"
      },
      "execution_count": null,
      "outputs": []
    }
  ]
}